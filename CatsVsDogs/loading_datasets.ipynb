{
 "cells": [
  {
   "cell_type": "code",
   "execution_count": 1,
   "metadata": {},
   "outputs": [],
   "source": [
    "import numpy as np\n",
    "import matplotlib.pyplot as plt\n",
    "import os\n",
    "import cv2"
   ]
  },
  {
   "cell_type": "code",
   "execution_count": 2,
   "metadata": {},
   "outputs": [
    {
     "data": {
      "text/plain": [
       "'3.4.2'"
      ]
     },
     "execution_count": 2,
     "metadata": {},
     "output_type": "execute_result"
    }
   ],
   "source": [
    "cv2.__version__"
   ]
  },
  {
   "cell_type": "code",
   "execution_count": 3,
   "metadata": {},
   "outputs": [
    {
     "name": "stdout",
     "output_type": "stream",
     "text": [
      "25000\n"
     ]
    }
   ],
   "source": [
    "path = \"/content/clouderizer/catdogs/data/train\"\n",
    "print(len(os.listdir(path)))\n"
   ]
  },
  {
   "cell_type": "code",
   "execution_count": null,
   "metadata": {},
   "outputs": [],
   "source": [
    "training_data = []\n",
    "IMG_SIZE = 100\n",
    "\n",
    "print(os.listdir(path)[:10])\n",
    "for img in os.listdir(path):\n",
    "    try:\n",
    "        class_num = 0 if img[0:3] == 'dog' else 1 #Filenames begins with dog or cat. If first three character of the filename is dog\n",
    "        img_array = cv2.imread(os.path.join(path,img), cv2.IMREAD_GRAYSCALE)\n",
    "        new_array = cv2.resize(img_array, (IMG_SIZE,IMG_SIZE))\n",
    "        training_data.append([new_array, class_num])\n",
    "        #print(img_array.shape)\n",
    "        #plt.imshow(img_array,cmap='gray')\n",
    "        #plt.show()\n",
    "        #print(img)\n",
    "    except Exceptinon as e:\n",
    "        print(e)\n",
    "        "
   ]
  },
  {
   "cell_type": "code",
   "execution_count": null,
   "metadata": {},
   "outputs": [],
   "source": [
    "print(img_array.shape)\n",
    "plt.imshow(new_array,cmap='gray')\n",
    "plt.show()"
   ]
  },
  {
   "cell_type": "code",
   "execution_count": null,
   "metadata": {},
   "outputs": [],
   "source": [
    "training_data[0]\n",
    "plt.imshow(training_data[0], cmap='gray')\n",
    "plt.show()"
   ]
  },
  {
   "cell_type": "code",
   "execution_count": 17,
   "metadata": {},
   "outputs": [
    {
     "name": "stdout",
     "output_type": "stream",
     "text": [
      "25000\n"
     ]
    }
   ],
   "source": [
    "import random\n",
    "print(len(training_data))\n",
    "random.shuffle(training_data)"
   ]
  },
  {
   "cell_type": "code",
   "execution_count": 18,
   "metadata": {},
   "outputs": [],
   "source": [
    "X = []\n",
    "y = []\n",
    "\n",
    "for features,label in training_data:\n",
    "    X.append(features)\n",
    "    y.append(label)\n",
    "    "
   ]
  },
  {
   "cell_type": "code",
   "execution_count": 23,
   "metadata": {},
   "outputs": [
    {
     "name": "stdout",
     "output_type": "stream",
     "text": [
      "[[183 180 197 ... 158 177 188]\n",
      " [194 173 181 ... 161 174 177]\n",
      " [192 179 209 ... 161 169 175]\n",
      " ...\n",
      " [241 239 236 ... 213 206  92]\n",
      " [239 235 235 ... 194 186 101]\n",
      " [234 230 230 ... 180 172 104]]\n"
     ]
    },
    {
     "data": {
      "text/plain": [
       "(100, 100)"
      ]
     },
     "execution_count": 23,
     "metadata": {},
     "output_type": "execute_result"
    }
   ],
   "source": [
    "print(X[0])\n",
    "X[0].shape"
   ]
  },
  {
   "cell_type": "code",
   "execution_count": 34,
   "metadata": {},
   "outputs": [],
   "source": [
    "X = np.array(X).reshape(-1, IMG_SIZE, IMG_SIZE, 1)"
   ]
  },
  {
   "cell_type": "code",
   "execution_count": 39,
   "metadata": {},
   "outputs": [
    {
     "name": "stdout",
     "output_type": "stream",
     "text": [
      "[[[131]\n",
      "  [135]\n",
      "  [137]\n",
      "  ...\n",
      "  [166]\n",
      "  [162]\n",
      "  [163]]\n",
      "\n",
      " [[130]\n",
      "  [134]\n",
      "  [134]\n",
      "  ...\n",
      "  [166]\n",
      "  [167]\n",
      "  [160]]\n",
      "\n",
      " [[134]\n",
      "  [128]\n",
      "  [134]\n",
      "  ...\n",
      "  [157]\n",
      "  [164]\n",
      "  [165]]\n",
      "\n",
      " ...\n",
      "\n",
      " [[140]\n",
      "  [143]\n",
      "  [146]\n",
      "  ...\n",
      "  [154]\n",
      "  [169]\n",
      "  [142]]\n",
      "\n",
      " [[158]\n",
      "  [139]\n",
      "  [156]\n",
      "  ...\n",
      "  [166]\n",
      "  [139]\n",
      "  [148]]\n",
      "\n",
      " [[154]\n",
      "  [151]\n",
      "  [140]\n",
      "  ...\n",
      "  [142]\n",
      "  [160]\n",
      "  [157]]]\n"
     ]
    },
    {
     "data": {
      "text/plain": [
       "(100, 100, 1)"
      ]
     },
     "execution_count": 39,
     "metadata": {},
     "output_type": "execute_result"
    }
   ],
   "source": [
    "print(X[1])\n",
    "X[1].shape"
   ]
  },
  {
   "cell_type": "code",
   "execution_count": 37,
   "metadata": {},
   "outputs": [],
   "source": [
    "import pickle\n",
    "\n",
    "pickle_out = open(\"X.pickle\", \"wb\")\n",
    "pickle.dump(X, pickle_out)\n",
    "pickle_out.close()\n",
    "\n",
    "pickle_out = open(\"y.pickle\", \"wb\")\n",
    "pickle.dump(y, pickle_out)\n",
    "pickle_out.close()"
   ]
  },
  {
   "cell_type": "code",
   "execution_count": 38,
   "metadata": {},
   "outputs": [
    {
     "name": "stdout",
     "output_type": "stream",
     "text": [
      "[[[131]\n",
      "  [135]\n",
      "  [137]\n",
      "  ...\n",
      "  [166]\n",
      "  [162]\n",
      "  [163]]\n",
      "\n",
      " [[130]\n",
      "  [134]\n",
      "  [134]\n",
      "  ...\n",
      "  [166]\n",
      "  [167]\n",
      "  [160]]\n",
      "\n",
      " [[134]\n",
      "  [128]\n",
      "  [134]\n",
      "  ...\n",
      "  [157]\n",
      "  [164]\n",
      "  [165]]\n",
      "\n",
      " ...\n",
      "\n",
      " [[140]\n",
      "  [143]\n",
      "  [146]\n",
      "  ...\n",
      "  [154]\n",
      "  [169]\n",
      "  [142]]\n",
      "\n",
      " [[158]\n",
      "  [139]\n",
      "  [156]\n",
      "  ...\n",
      "  [166]\n",
      "  [139]\n",
      "  [148]]\n",
      "\n",
      " [[154]\n",
      "  [151]\n",
      "  [140]\n",
      "  ...\n",
      "  [142]\n",
      "  [160]\n",
      "  [157]]]\n"
     ]
    }
   ],
   "source": [
    "pickle_in = open(\"X.pickle\", \"rb\")\n",
    "X = pickle.load(pickle_in)\n",
    "print(X[1])"
   ]
  }
 ],
 "metadata": {
  "kernelspec": {
   "display_name": "Python 3",
   "language": "python",
   "name": "python3"
  },
  "language_info": {
   "codemirror_mode": {
    "name": "ipython",
    "version": 3
   },
   "file_extension": ".py",
   "mimetype": "text/x-python",
   "name": "python",
   "nbconvert_exporter": "python",
   "pygments_lexer": "ipython3",
   "version": "3.6.3"
  }
 },
 "nbformat": 4,
 "nbformat_minor": 2
}
